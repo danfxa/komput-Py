{
 "cells": [
  {
   "cell_type": "markdown",
   "metadata": {},
   "source": [
    "# ANAVA DESAIN EXPERIMENT\n",
    "## RANCANGAN ACAK LENGKAP"
   ]
  },
  {
   "cell_type": "markdown",
   "metadata": {},
   "source": [
    "Rancangan acak lengkap merupakan rancangan yang paling sederhana, digunakan untuk mempelajari *a* perlakuan dan *n* pengulangan, Sehingga total percobaan adalah *na*"
   ]
  },
  {
   "cell_type": "markdown",
   "metadata": {},
   "source": [
    "### Notasi yang digunakan\n",
    "\n",
    "* $Y_{**}$ = $\\sum_{i=0}^{a}\\sum_{j=0}^{n}y_{ij}$ adalah jumlah seluruh elemen percobaan\n",
    "* $Y_{i*}$ = $\\sum_{i=0}^{a}y_{ij}$ adalah jumlah elemen tiap perlakuan"
   ]
  },
  {
   "cell_type": "code",
   "execution_count": null,
   "metadata": {},
   "outputs": [],
   "source": [
    "import numpy as np\n",
    "import pandas as pd"
   ]
  },
  {
   "cell_type": "code",
   "execution_count": 5,
   "metadata": {},
   "outputs": [
    {
     "data": {
      "text/html": [
       "<div>\n",
       "<style scoped>\n",
       "    .dataframe tbody tr th:only-of-type {\n",
       "        vertical-align: middle;\n",
       "    }\n",
       "\n",
       "    .dataframe tbody tr th {\n",
       "        vertical-align: top;\n",
       "    }\n",
       "\n",
       "    .dataframe thead th {\n",
       "        text-align: right;\n",
       "    }\n",
       "</style>\n",
       "<table border=\"1\" class=\"dataframe\">\n",
       "  <thead>\n",
       "    <tr style=\"text-align: right;\">\n",
       "      <th></th>\n",
       "      <th>A</th>\n",
       "      <th>C</th>\n",
       "      <th>T</th>\n",
       "    </tr>\n",
       "  </thead>\n",
       "  <tbody>\n",
       "    <tr>\n",
       "      <th>0</th>\n",
       "      <td>32</td>\n",
       "      <td>52</td>\n",
       "      <td>58</td>\n",
       "    </tr>\n",
       "    <tr>\n",
       "      <th>1</th>\n",
       "      <td>55</td>\n",
       "      <td>67</td>\n",
       "      <td>42</td>\n",
       "    </tr>\n",
       "    <tr>\n",
       "      <th>2</th>\n",
       "      <td>28</td>\n",
       "      <td>55</td>\n",
       "      <td>76</td>\n",
       "    </tr>\n",
       "    <tr>\n",
       "      <th>3</th>\n",
       "      <td>24</td>\n",
       "      <td>52</td>\n",
       "      <td>46</td>\n",
       "    </tr>\n",
       "    <tr>\n",
       "      <th>4</th>\n",
       "      <td>30</td>\n",
       "      <td>53</td>\n",
       "      <td>25</td>\n",
       "    </tr>\n",
       "  </tbody>\n",
       "</table>\n",
       "</div>"
      ],
      "text/plain": [
       "    A   C   T\n",
       "0  32  52  58\n",
       "1  55  67  42\n",
       "2  28  55  76\n",
       "3  24  52  46\n",
       "4  30  53  25"
      ]
     },
     "execution_count": 5,
     "metadata": {},
     "output_type": "execute_result"
    }
   ],
   "source": [
    "df  = pd.read_csv(\"/home/dn/Documents/kuliah/S6/DesainExperimen/2.csv\")\n",
    "df"
   ]
  },
  {
   "cell_type": "code",
   "execution_count": 22,
   "metadata": {},
   "outputs": [],
   "source": [
    "cek = df.isnull().sum().sum()\n",
    "if cek>=1:\n",
    "    r = df.count()\n",
    "    p = df.to_numpy()\n",
    "    a = len(p[0,:])",
    "    jkp = np.zeros(a)",
    "    \n",
    "    FK = (df.sum().sum())**2/r.sum().sum()\n",
    "    \n",
    "    for i in range(a):\n",
    "        jkp[i] = df.iloc[:,i].sum()\n",
    "    jkp = jkp**2\n",
    "    JKP = sum(jkp/r)-FK\n",
    "    \n",
    "    JKT = (df**2).sum().sum()-FK\n",
    "    \n",
    "    JKG = JKT - JKP\n",
    "    \n",
    "    dp = a-1\n",
    "    dg = sum(r-1)\n",
    "    dt = sum(r)-1\n",
    "    \n",
    "    KTG = JKG/dg\n",
    "    KTP = JKP/dp\n",
    "    \n",
    "    F = KTP/KTG\n",
    "    Ft = Ftabel.iloc[dg-1,dp-1]\n",
    "else:\n",
    "    #inisialisasi program\n",
    "    \n",
    "    p = df.to_numpy()\n",
    "    a = len(p[0,:])\n",
    "    r = len(p[:,0])\n",
    "    jkp = np.zeros(a)\n",
    "    jkt = np.zeros((a,r))\n",
    "    \n",
    "    #menghitung Faktor Korelasi\n",
    "    yii = p.sum().sum()\n",
    "    FK = yii**2/(a*r)\n",
    "    \n",
    "    #Menghitung Jumlah Kuadrat Perlakuan\n",
    "    \n",
    "    for i in range(a):\n",
    "        jkp[i] = p[:,i].sum()\n",
    "    jkp=jkp**2\n",
    "    JKP = sum(jkp)/r-FK\n",
    "    \n",
    "    #Menghitung Jumlah Kuadrat Total\n",
    "    \n",
    "    jkt = p**2\n",
    "    JKT = jkt.sum().sum()-FK\n",
    "    \n",
    "    #Menghitung Jumlah Kuadrat Galat\n",
    "    \n",
    "    JKG = JKT-JKP\n",
    "    \n",
    "    #Menghitung Derajat bebas\n",
    "    \n",
    "    dp = a-1\n",
    "    dg = a*(r-1)\n",
    "    dt = a*r-1\n",
    "    \n",
    "    #Menghitung Kuadrat Total\n",
    "    \n",
    "    KTP = JKP/dp\n",
    "    KTG = JKG/dg\n",
    "    \n",
    "    #F Hitung\n",
    "    \n",
    "    F = KTP/KTG"
   ]
  },
  {
   "cell_type": "code",
   "execution_count": 23,
   "metadata": {},
   "outputs": [
    {
     "data": {
      "text/html": [
       "<div>\n",
       "<style scoped>\n",
       "    .dataframe tbody tr th:only-of-type {\n",
       "        vertical-align: middle;\n",
       "    }\n",
       "\n",
       "    .dataframe tbody tr th {\n",
       "        vertical-align: top;\n",
       "    }\n",
       "\n",
       "    .dataframe thead th {\n",
       "        text-align: right;\n",
       "    }\n",
       "</style>\n",
       "<table border=\"1\" class=\"dataframe\">\n",
       "  <thead>\n",
       "    <tr style=\"text-align: right;\">\n",
       "      <th></th>\n",
       "      <th>Derajat Bebas</th>\n",
       "      <th>Jumlah Kuadrat</th>\n",
       "      <th>KT</th>\n",
       "      <th>$F_{hit}$</th>\n",
       "    </tr>\n",
       "  </thead>\n",
       "  <tbody>\n",
       "    <tr>\n",
       "      <th>Galat</th>\n",
       "      <td>2</td>\n",
       "      <td>1280.533333</td>\n",
       "      <td>640.267</td>\n",
       "      <td>3.48792</td>\n",
       "    </tr>\n",
       "    <tr>\n",
       "      <th>Total</th>\n",
       "      <td>12</td>\n",
       "      <td>2202.800000</td>\n",
       "      <td>183.567</td>\n",
       "      <td>-</td>\n",
       "    </tr>\n",
       "    <tr>\n",
       "      <th>Perlakuan</th>\n",
       "      <td>14</td>\n",
       "      <td>3483.333333</td>\n",
       "      <td>-</td>\n",
       "      <td>-</td>\n",
       "    </tr>\n",
       "  </tbody>\n",
       "</table>\n",
       "</div>"
      ],
      "text/plain": [
       "           Derajat Bebas  Jumlah Kuadrat       KT $F_{hit}$\n",
       "Galat                  2     1280.533333  640.267   3.48792\n",
       "Total                 12     2202.800000  183.567         -\n",
       "Perlakuan             14     3483.333333        -         -"
      ]
     },
     "execution_count": 23,
     "metadata": {},
     "output_type": "execute_result"
    }
   ],
   "source": [
    "col = {\"Derajat Bebas\":[dp,dg,dt],\"Jumlah Kuadrat\":[JKP,JKG,JKT],\"KT\":[KTP,KTG,\"-\"],\"$F_{hit}$\":[F,\"-\",\"-\"]}\n",
    "Anava = pd.DataFrame(col)\n",
    "index_tittle = [\"Perlakuan\",\"Galat\",\"Total\"]\n",
    "Anava.index = index_tittle\n",
    "Anava"
   ]
  }
 ],
 "metadata": {
  "kernelspec": {
   "display_name": "Python 3",
   "language": "python",
   "name": "python3"
  },
  "language_info": {
   "codemirror_mode": {
    "name": "ipython",
    "version": 3
   },
   "file_extension": ".py",
   "mimetype": "text/x-python",
   "name": "python",
   "nbconvert_exporter": "python",
   "pygments_lexer": "ipython3",
   "version": "3.8.5"
  }
 },
 "nbformat": 4,
 "nbformat_minor": 4
}
