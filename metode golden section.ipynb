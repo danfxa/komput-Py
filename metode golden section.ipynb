{
 "cells": [
  {
   "cell_type": "code",
   "execution_count": 13,
   "metadata": {},
   "outputs": [],
   "source": [
    "import numpy as np\n",
    "import matplotlib.pyplot as plt\n",
    "import pandas as pd"
   ]
  },
  {
   "cell_type": "code",
   "execution_count": 2,
   "metadata": {},
   "outputs": [],
   "source": [
    "def fungsi(x):\n",
    "    return x**4 - 14*x**3 + 60*x**2 - 70*x"
   ]
  },
  {
   "cell_type": "code",
   "execution_count": 3,
   "metadata": {},
   "outputs": [],
   "source": [
    "#definisi batas interval\n",
    "interval = [0,2]\n",
    "delta = 0.3\n",
    "rank = interval[1]-interval[0]\n",
    "N = int(np.ceil(np.log(delta/rank)/np.log(0.61803)))\n",
    "a = np.zeros((N,1))\n",
    "b = np.zeros((N,1))\n",
    "alpha = np.zeros((N,1))\n",
    "beta = np.zeros((N,1))\n",
    "falpha = np.zeros((N,1))\n",
    "fbeta = np.zeros((N,1))\n",
    "L = np.zeros((N,1))\n",
    "rho = (3-np.sqrt(5))/2"
   ]
  },
  {
   "cell_type": "code",
   "execution_count": 7,
   "metadata": {},
   "outputs": [],
   "source": [
    "for i in range(N):\n",
    "    a[0] = interval[0]\n",
    "    b[0] = interval[1]\n",
    "    L[0] = rank\n",
    "    alpha[i] = a[i] + rho*(b[i]-a[i])\n",
    "    beta [i] = a[i] + (1-rho)*(b[i]-a[i])\n",
    "    falpha[i] = fungsi(alpha[i])\n",
    "    fbeta[i] = fungsi(beta[i])\n",
    "    if falpha[i]<fbeta[i]:\n",
    "        a[i] = a[i]\n",
    "        b[i] = beta[i]\n",
    "    else:\n",
    "        a[i] = alpha[i]\n",
    "        b[i] = b[i]\n",
    "    L[i] = b[i]-a[i]\n",
    "xp = a[i] + (b[i] - a[i])/2\n",
    "fxp = fungsi(xp)"
   ]
  },
  {
   "cell_type": "code",
   "execution_count": 11,
   "metadata": {},
   "outputs": [
    {
     "data": {
      "text/plain": [
       "[<matplotlib.lines.Line2D at 0x7f1edff07c70>]"
      ]
     },
     "execution_count": 11,
     "metadata": {},
     "output_type": "execute_result"
    },
    {
     "data": {
      "image/png": "[encoded data removed]",
      "text/plain": [
       "<Figure size 432x288 with 1 Axes>"
      ]
     },
     "metadata": {
      "needs_background": "light"
     },
     "output_type": "display_data"
    }
   ],
   "source": [
    "x = np.linspace(0,2)\n",
    "y = fungsi(x)\n",
    "fig ,ax = plt.subplots()\n",
    "ax.plot(x,y)\n",
    "ax.plot(xp,fxp,'*r')"
   ]
  },
  {
   "cell_type": "code",
   "execution_count": 22,
   "metadata": {},
   "outputs": [
    {
     "data": {
      "text/plain": [
       "[array([[0.        ],\n",
       "        [0.47213595],\n",
       "        [0.65247584],\n",
       "        [0.65247584]]),\n",
       " array([[2.        ],\n",
       "        [0.94427191],\n",
       "        [0.94427191],\n",
       "        [0.83281573]]),\n",
       " array([[2.        ],\n",
       "        [0.47213595],\n",
       "        [0.29179607],\n",
       "        [0.18033989]]),\n",
       " array([[-24.36067977],\n",
       "        [-24.36067977],\n",
       "        [-23.83743531],\n",
       "        [-24.36067977]]),\n",
       " array([[-18.95816066],\n",
       "        [-23.59246185],\n",
       "        [-24.36067977],\n",
       "        [-24.28788711]])]"
      ]
     },
     "execution_count": 22,
     "metadata": {},
     "output_type": "execute_result"
    }
   ],
   "source": [
    "table = [a,b,L,falpha,fbeta]\n",
    "table"
   ]
  },
  {
   "cell_type": "code",
   "execution_count": null,
   "metadata": {},
   "outputs": [],
   "source": []
  }
 ],
 "metadata": {
  "kernelspec": {
   "display_name": "Python 3",
   "language": "python",
   "name": "python3"
  },
  "language_info": {
   "codemirror_mode": {
    "name": "ipython",
    "version": 3
   },
   "file_extension": ".py",
   "mimetype": "text/x-python",
   "name": "python",
   "nbconvert_exporter": "python",
   "pygments_lexer": "ipython3",
   "version": "3.8.5"
  }
 },
 "nbformat": 4,
 "nbformat_minor": 4
}
