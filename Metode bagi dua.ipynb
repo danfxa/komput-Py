{
 "cells": [
  {
   "cell_type": "markdown",
   "metadata": {},
   "source": [
    "# Aproximasi Akar Persamaan Tak Linear\n",
    "\n",
    "## Metode bagi dua\n",
    "\n",
    "Formula matematis metode bagi dua\n",
    "$$p_n := \\frac{a_n+b_n}{2}$$\n",
    "\n",
    "Estimasi Galat\n",
    "\n",
    "$$E_g = log(\\frac{b-a}{tol}$$"
   ]
  },
  {
   "cell_type": "markdown",
   "metadata": {},
   "source": [
    "### Import package"
   ]
  },
  {
   "cell_type": "code",
   "execution_count": 1,
   "metadata": {},
   "outputs": [],
   "source": [
    "import numpy as np\n",
    "import matplotlib.pyplot as plt\n",
    "%matplotlib inline"
   ]
  },
  {
   "cell_type": "markdown",
   "metadata": {},
   "source": [
    "### Run algorithm"
   ]
  },
  {
   "cell_type": "code",
   "execution_count": 26,
   "metadata": {},
   "outputs": [
    {
     "name": "stdout",
     "output_type": "stream",
     "text": [
      "batas bawah: 0\n",
      "batas atas: 1\n",
      "nilai toleransi: 0.001\n",
      "nilai aproximasi ke- 0 = 0.5\n",
      "nilai aproximasi ke- 1 = 0.75\n",
      "nilai aproximasi ke- 2 = 0.875\n",
      "nilai aproximasi ke- 3 = 0.8125\n",
      "nilai aproximasi ke- 4 = 0.78125\n",
      "nilai aproximasi ke- 5 = 0.765625\n",
      "nilai aproximasi ke- 6 = 0.7734375\n"
     ]
    }
   ],
   "source": [
    "a = int(input(\"batas bawah: \")) #atas bawah\n",
    "b = int(input(\"batas atas: \")) #batas atas\n",
    "tol = float(input(\"nilai toleransi: \")) #nilai Toleranasi\n",
    "\n",
    "#Inisialisasi fungsi yang akan dicari\n",
    "def function(x):\n",
    "    y = x-np.exp(-x/3)\n",
    "    return y\n",
    "\n",
    "#Cek lokasi akar\n",
    "if function(a)*function(b)>0:\n",
    "    print(\"error, tidak terjamin akar pada interval ini!!\")\n",
    "    \n",
    "\n",
    "N = int(np.ceil(np.log((b-a)/tol))) #Dengan rumus aproximasi galat\n",
    "p = np.zeros(N)\n",
    "\n",
    "for i in range(N):\n",
    "    step = step +1\n",
    "    p = (a+b)/2\n",
    "    if function(a)*function(p)<0:\n",
    "        a = a\n",
    "        b = p\n",
    "    else:\n",
    "        a = p\n",
    "        b = b\n",
    "    print(\"nilai aproximasi ke- {} = {}\".format(i,p))\n",
    "    "
   ]
  },
  {
   "cell_type": "code",
   "execution_count": null,
   "metadata": {},
   "outputs": [],
   "source": []
  }
 ],
 "metadata": {
  "kernelspec": {
   "display_name": "Python 3",
   "language": "python",
   "name": "python3"
  },
  "language_info": {
   "codemirror_mode": {
    "name": "ipython",
    "version": 3
   },
   "file_extension": ".py",
   "mimetype": "text/x-python",
   "name": "python",
   "nbconvert_exporter": "python",
   "pygments_lexer": "ipython3",
   "version": "3.8.5"
  }
 },
 "nbformat": 4,
 "nbformat_minor": 4
}
