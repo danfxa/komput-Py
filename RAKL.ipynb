{
 "cells": [
  {
   "cell_type": "markdown",
   "metadata": {},
   "source": [
    "# RANCANGAN ACAK KELOMPOK LENGKAP\n",
    "\n",
    "## Mengapa RAKL\n",
    "\n",
    "* Keheterogenan berasal dari satu sumber keragaman\n",
    "* Mengatasi kesulitan dalam mempersiapkan unit percobaan dalam jumlah besar\n",
    "* Kelompok yang dibentuk harus merupakan kumpulan dari unit-unit percobaan yang relatif homogen, sedangkan keragaman antar kelompok diharapkan cukup tinggi"
   ]
  },
  {
   "cell_type": "markdown",
   "metadata": {},
   "source": [
    "Import Module"
   ]
  },
  {
   "cell_type": "code",
   "execution_count": 1,
   "metadata": {},
   "outputs": [],
   "source": [
    "import numpy as np\n",
    "import pandas as pd"
   ]
  },
  {
   "cell_type": "markdown",
   "metadata": {},
   "source": [
    "Import Data"
   ]
  },
  {
   "cell_type": "code",
   "execution_count": 2,
   "metadata": {},
   "outputs": [
    {
     "data": {
      "text/html": [
       "<div>\n",
       "<style scoped>\n",
       "    .dataframe tbody tr th:only-of-type {\n",
       "        vertical-align: middle;\n",
       "    }\n",
       "\n",
       "    .dataframe tbody tr th {\n",
       "        vertical-align: top;\n",
       "    }\n",
       "\n",
       "    .dataframe thead th {\n",
       "        text-align: right;\n",
       "    }\n",
       "</style>\n",
       "<table border=\"1\" class=\"dataframe\">\n",
       "  <thead>\n",
       "    <tr style=\"text-align: right;\">\n",
       "      <th></th>\n",
       "      <th>Cetak</th>\n",
       "      <th>Audio</th>\n",
       "      <th>Visual</th>\n",
       "      <th>Berbasis Komputer</th>\n",
       "    </tr>\n",
       "  </thead>\n",
       "  <tbody>\n",
       "    <tr>\n",
       "      <th>Sedang</th>\n",
       "      <td>8.1</td>\n",
       "      <td>6.5</td>\n",
       "      <td>7.4</td>\n",
       "      <td>8.4</td>\n",
       "    </tr>\n",
       "    <tr>\n",
       "      <th>Rendah</th>\n",
       "      <td>8.9</td>\n",
       "      <td>6.8</td>\n",
       "      <td>6.0</td>\n",
       "      <td>7.4</td>\n",
       "    </tr>\n",
       "    <tr>\n",
       "      <th>Tinggi</th>\n",
       "      <td>7.7</td>\n",
       "      <td>5.9</td>\n",
       "      <td>5.9</td>\n",
       "      <td>9.4</td>\n",
       "    </tr>\n",
       "  </tbody>\n",
       "</table>\n",
       "</div>"
      ],
      "text/plain": [
       "        Cetak  Audio  Visual  Berbasis Komputer\n",
       "Sedang    8.1    6.5     7.4                8.4\n",
       "Rendah    8.9    6.8     6.0                7.4\n",
       "Tinggi    7.7    5.9     5.9                9.4"
      ]
     },
     "execution_count": 2,
     "metadata": {},
     "output_type": "execute_result"
    }
   ],
   "source": [
    "df = pd.read_csv(\"/home/dn/Documents/kuliah/S6/DesainExperimen/DataTugas/2.3.csv\")\n",
    "Ftabel = pd.read_csv(\"/home/dn/Documents/kuliah/S6/DesainExperimen/F.csv\")\n",
    "label = ['Rendah','Sedang','Tinggi']\n",
    "df.index = label\n",
    "df"
   ]
  },
  {
   "cell_type": "markdown",
   "metadata": {},
   "source": [
    "Inisialisasi Data"
   ]
  },
  {
   "cell_type": "code",
   "execution_count": 3,
   "metadata": {},
   "outputs": [],
   "source": [
    "a = len(df.iloc[0,:])\n",
    "b = len(df.iloc[:,0])\n",
    "yoo = df.sum().sum()\n",
    "yio = np.zeros(a)\n",
    "yoj = np.zeros(b)\n",
    "for i in range(a):\n",
    "    yio[i]=df.iloc[:,i].sum()\n",
    "for j in range(b):\n",
    "    yoj[j] = df.iloc[j,:].sum()\n",
    "yij = df**2"
   ]
  },
  {
   "cell_type": "code",
   "execution_count": null,
   "metadata": {},
   "outputs": [],
   "source": [
    "Perhitungan"
   ]
  },
  {
   "cell_type": "code",
   "execution_count": 4,
   "metadata": {},
   "outputs": [
    {
     "name": "stdout",
     "output_type": "stream",
     "text": [
      "651.2133333333335 88.4 1986.2600000000002 2606.18 666.6600000000001\n"
     ]
    }
   ],
   "source": [
    "FK = yoo**2/(a*b)\n",
    "JKP = sum(yio**2)/b-FK\n",
    "JKK = sum(yoj**2)/a-FK\n",
    "JKT = yij.sum().sum()-FK\n",
    "JKG = JKT-JKP-JKK\n",
    "\n",
    "dp,dk,dg,dt = a-1,b-1,(a-1)*(b-1),a*b-1\n",
    "\n",
    "KTP = JKP/dp\n",
    "KTK = JKK/dk\n",
    "KTG = JKG/dg\n",
    "\n",
    "F1 = KTP/KTG\n",
    "F2 = KTK/KTG\n",
    "\n",
    "Ft1 = Ftabel.iloc[dg-1,dp-1]\n",
    "Ft2 = Ftabel.iloc[dg-1,dk-1]\n",
    "print(FK,yoo,sum(yio**2),sum(yoj**2),yij.sum().sum())"
   ]
  },
  {
   "cell_type": "markdown",
   "metadata": {},
   "source": [
    "Menampilkan Hasil ke Dalam Dataset"
   ]
  },
  {
   "cell_type": "code",
   "execution_count": 5,
   "metadata": {},
   "outputs": [
    {
     "name": "stdout",
     "output_type": "stream",
     "text": [
      "H0 Perlakuan Ditolak karena Fhit = 5.126915520628347 > F tabel =4.7571\n",
      "H0 Kelompok Diterima karena Fhit = 0.23457760314327256 < F tabel =5.1433\n"
     ]
    },
    {
     "data": {
      "text/html": [
       "<div>\n",
       "<style scoped>\n",
       "    .dataframe tbody tr th:only-of-type {\n",
       "        vertical-align: middle;\n",
       "    }\n",
       "\n",
       "    .dataframe tbody tr th {\n",
       "        vertical-align: top;\n",
       "    }\n",
       "\n",
       "    .dataframe thead th {\n",
       "        text-align: right;\n",
       "    }\n",
       "</style>\n",
       "<table border=\"1\" class=\"dataframe\">\n",
       "  <thead>\n",
       "    <tr style=\"text-align: right;\">\n",
       "      <th></th>\n",
       "      <th>Derajat Bebas</th>\n",
       "      <th>Jumlah Kuadrat</th>\n",
       "      <th>KT</th>\n",
       "      <th>$F_{hit}$</th>\n",
       "    </tr>\n",
       "  </thead>\n",
       "  <tbody>\n",
       "    <tr>\n",
       "      <th>Perlakuan</th>\n",
       "      <td>3</td>\n",
       "      <td>10.873333</td>\n",
       "      <td>3.62444</td>\n",
       "      <td>5.12692</td>\n",
       "    </tr>\n",
       "    <tr>\n",
       "      <th>Kelompok</th>\n",
       "      <td>2</td>\n",
       "      <td>0.331667</td>\n",
       "      <td>0.165833</td>\n",
       "      <td>0.234578</td>\n",
       "    </tr>\n",
       "    <tr>\n",
       "      <th>Galat</th>\n",
       "      <td>6</td>\n",
       "      <td>4.241667</td>\n",
       "      <td>0.706944</td>\n",
       "      <td>-</td>\n",
       "    </tr>\n",
       "    <tr>\n",
       "      <th>Total</th>\n",
       "      <td>11</td>\n",
       "      <td>15.446667</td>\n",
       "      <td>-</td>\n",
       "      <td>-</td>\n",
       "    </tr>\n",
       "  </tbody>\n",
       "</table>\n",
       "</div>"
      ],
      "text/plain": [
       "           Derajat Bebas  Jumlah Kuadrat        KT $F_{hit}$\n",
       "Perlakuan              3       10.873333   3.62444   5.12692\n",
       "Kelompok               2        0.331667  0.165833  0.234578\n",
       "Galat                  6        4.241667  0.706944         -\n",
       "Total                 11       15.446667         -         -"
      ]
     },
     "execution_count": 5,
     "metadata": {},
     "output_type": "execute_result"
    }
   ],
   "source": [
    "col = {\"Derajat Bebas\":[dp,dk,dg,dt],\"Jumlah Kuadrat\":[JKP,JKK,JKG,JKT],\"KT\":[KTP,KTK,KTG,\"-\"],\"$F_{hit}$\":[F1,F2,\"-\",\"-\"]}\n",
    "Anava = pd.DataFrame(col)\n",
    "if F1<Ft1:\n",
    "    print(\"H0 Perlakuan Diterima karena Fhit = {} < F tabel ={}\".format(F1,Ft1))\n",
    "else:\n",
    "    print(\"H0 Perlakuan Ditolak karena Fhit = {} > F tabel ={}\".format(F1,Ft1))\n",
    "if F2<Ft2:\n",
    "    print(\"H0 Kelompok Diterima karena Fhit = {} < F tabel ={}\".format(F2,Ft2))\n",
    "else:\n",
    "    print(\"H0 Kelompok Ditolak karena Fhit = {} > F tabel ={}\".format(F2,Ft2))\n",
    "label = ['Perlakuan','Kelompok','Galat','Total']\n",
    "Anava.index = label\n",
    "Anava"
   ]
  }
 ],
 "metadata": {
  "kernelspec": {
   "display_name": "Python 3",
   "language": "python",
   "name": "python3"
  },
  "language_info": {
   "codemirror_mode": {
    "name": "ipython",
    "version": 3
   },
   "file_extension": ".py",
   "mimetype": "text/x-python",
   "name": "python",
   "nbconvert_exporter": "python",
   "pygments_lexer": "ipython3",
   "version": "3.8.5"
  }
 },
 "nbformat": 4,
 "nbformat_minor": 4
}
